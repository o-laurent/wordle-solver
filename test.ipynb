{
 "cells": [
  {
   "cell_type": "code",
   "execution_count": 1,
   "metadata": {},
   "outputs": [],
   "source": [
    "from wordle import Wordle"
   ]
  },
  {
   "cell_type": "code",
   "execution_count": 2,
   "metadata": {},
   "outputs": [
    {
     "name": "stdout",
     "output_type": "stream",
     "text": [
      "Mots chargés: 15918\n"
     ]
    }
   ],
   "source": [
    "game = Wordle(\"data/english5.txt\")"
   ]
  },
  {
   "cell_type": "code",
   "execution_count": 3,
   "metadata": {},
   "outputs": [
    {
     "data": {
      "text/plain": [
       "15918"
      ]
     },
     "execution_count": 3,
     "metadata": {},
     "output_type": "execute_result"
    }
   ],
   "source": [
    "len(game.data)"
   ]
  },
  {
   "cell_type": "code",
   "execution_count": 10,
   "metadata": {},
   "outputs": [
    {
     "name": "stdout",
     "output_type": "stream",
     "text": [
      "0 \n",
      "1 \n",
      "2 u\n",
      "Mots restants: 12\n",
      "3 n\n",
      "Mots restants: 12\n",
      "4 \n"
     ]
    }
   ],
   "source": [
    "game.add_hard_constraint(\"n\", 3)\n",
    "game.add_hard_constraint(\"u\", 2)\n",
    "game.apply_hard_constraints()"
   ]
  },
  {
   "cell_type": "code",
   "execution_count": 11,
   "metadata": {},
   "outputs": [
    {
     "name": "stdout",
     "output_type": "stream",
     "text": [
      "a\n",
      "Mots restants: 12\n",
      "t\n",
      "Mots restants: 12\n",
      "o\n",
      "Mots restants: 12\n",
      "y\n",
      "Mots restants: 12\n",
      "a\n",
      "Mots restants: 12\n",
      "t\n",
      "Mots restants: 12\n",
      "o\n",
      "Mots restants: 12\n",
      "y\n",
      "Mots restants: 12\n",
      "s\n",
      "Mots restants: 12\n",
      "p\n",
      "Mots restants: 12\n",
      "i\n",
      "Mots restants: 12\n",
      "e\n",
      "Mots restants: 12\n",
      "a\n",
      "Mots restants: 12\n",
      "t\n",
      "Mots restants: 12\n",
      "o\n",
      "Mots restants: 12\n",
      "y\n",
      "Mots restants: 12\n",
      "s\n",
      "Mots restants: 12\n",
      "p\n",
      "Mots restants: 12\n",
      "i\n",
      "Mots restants: 12\n",
      "e\n",
      "Mots restants: 12\n",
      "c\n",
      "Mots restants: 7\n",
      "h\n",
      "Mots restants: 7\n",
      "k\n",
      "Mots restants: 3\n"
     ]
    }
   ],
   "source": [
    "game.add_negative_constraint(\"a\")\n",
    "game.add_negative_constraint(\"t\")\n",
    "game.add_negative_constraint(\"o\")\n",
    "game.add_negative_constraint(\"y\")\n",
    "game.add_negative_constraint(\"s\")\n",
    "game.add_negative_constraint(\"p\")\n",
    "game.add_negative_constraint(\"i\")\n",
    "game.add_negative_constraint(\"e\")\n",
    "game.add_negative_constraint(\"c\")\n",
    "game.add_negative_constraint(\"h\")\n",
    "game.add_negative_constraint(\"k\")\n",
    "\n",
    "game.apply_negative_constraints()\n"
   ]
  },
  {
   "cell_type": "code",
   "execution_count": 12,
   "metadata": {},
   "outputs": [],
   "source": [
    "# game.add_hard_constraint(\"t\", 0)\n",
    "# game.add_soft_constraint(\"i\")\n",
    "# game.add_hard_constraint(\"e\", 4)\n",
    "# game.add_soft_constraint(\"e\")\n",
    "# game.apply_hard_constraints()\n",
    "# game.apply_soft_constraints()"
   ]
  },
  {
   "cell_type": "code",
   "execution_count": 13,
   "metadata": {},
   "outputs": [
    {
     "data": {
      "text/plain": [
       "['flung', 'wrung', 'drung']"
      ]
     },
     "execution_count": 13,
     "metadata": {},
     "output_type": "execute_result"
    }
   ],
   "source": [
    "game.data"
   ]
  }
 ],
 "metadata": {
  "interpreter": {
   "hash": "31f2aee4e71d21fbe5cf8b01ff0e069b9275f58929596ceb00d14d90e3e16cd6"
  },
  "kernelspec": {
   "display_name": "Python 3.8.10 64-bit",
   "language": "python",
   "name": "python3"
  },
  "language_info": {
   "codemirror_mode": {
    "name": "ipython",
    "version": 3
   },
   "file_extension": ".py",
   "mimetype": "text/x-python",
   "name": "python",
   "nbconvert_exporter": "python",
   "pygments_lexer": "ipython3",
   "version": "3.8.10"
  },
  "orig_nbformat": 4
 },
 "nbformat": 4,
 "nbformat_minor": 2
}
