{
 "cells": [
  {
   "cell_type": "code",
   "execution_count": 12,
   "metadata": {},
   "outputs": [],
   "source": [
    "from wordle import Wordle"
   ]
  },
  {
   "cell_type": "code",
   "execution_count": 18,
   "metadata": {},
   "outputs": [
    {
     "name": "stdout",
     "output_type": "stream",
     "text": [
      "Mots chargés: 5897\n"
     ]
    }
   ],
   "source": [
    "game = Wordle(\"data/french5.txt\")"
   ]
  },
  {
   "cell_type": "code",
   "execution_count": 14,
   "metadata": {},
   "outputs": [
    {
     "data": {
      "text/plain": [
       "5897"
      ]
     },
     "execution_count": 14,
     "metadata": {},
     "output_type": "execute_result"
    }
   ],
   "source": [
    "len(game.data)"
   ]
  },
  {
   "cell_type": "code",
   "execution_count": 15,
   "metadata": {},
   "outputs": [
    {
     "name": "stdout",
     "output_type": "stream",
     "text": [
      "0 \n",
      "1 r\n",
      "Mots restants: 404\n",
      "2 \n",
      "3 i\n",
      "Mots restants: 39\n",
      "4 t\n",
      "Mots restants: 7\n",
      "u\n",
      "Mots restants: 5\n",
      "b\n",
      "Mots restants: 4\n",
      "a\n",
      "Mots restants: 2\n",
      "l\n",
      "Mots restants: 2\n",
      "e\n",
      "Mots restants: 2\n"
     ]
    }
   ],
   "source": [
    "game.add_hard_constraint(\"i\",3)\n",
    "game.add_hard_constraint(\"t\",4)\n",
    "game.add_hard_constraint(\"r\",1)\n",
    "game.add_negative_constraint(\"u\")\n",
    "game.add_negative_constraint(\"b\")\n",
    "game.add_negative_constraint(\"a\")\n",
    "game.add_negative_constraint(\"l\")\n",
    "game.add_negative_constraint(\"e\")\n",
    "game.apply_hard_constraints()\n",
    "game.apply_negative_constraints()"
   ]
  },
  {
   "cell_type": "code",
   "execution_count": 16,
   "metadata": {},
   "outputs": [
    {
     "data": {
      "text/plain": [
       "['croit', 'droit']"
      ]
     },
     "execution_count": 16,
     "metadata": {},
     "output_type": "execute_result"
    }
   ],
   "source": [
    "game.data"
   ]
  }
 ],
 "metadata": {
  "interpreter": {
   "hash": "31f2aee4e71d21fbe5cf8b01ff0e069b9275f58929596ceb00d14d90e3e16cd6"
  },
  "kernelspec": {
   "display_name": "Python 3.8.10 64-bit",
   "language": "python",
   "name": "python3"
  },
  "language_info": {
   "codemirror_mode": {
    "name": "ipython",
    "version": 3
   },
   "file_extension": ".py",
   "mimetype": "text/x-python",
   "name": "python",
   "nbconvert_exporter": "python",
   "pygments_lexer": "ipython3",
   "version": "3.8.10"
  },
  "orig_nbformat": 4
 },
 "nbformat": 4,
 "nbformat_minor": 2
}
